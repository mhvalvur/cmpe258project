{
 "cells": [
  {
   "cell_type": "code",
   "execution_count": 23,
   "id": "f168ac33-220f-480e-bdec-d370aaa8a508",
   "metadata": {
    "ExecuteTime": {
     "end_time": "2024-04-10T04:14:01.128344Z",
     "start_time": "2024-04-10T04:14:01.121221Z"
    }
   },
   "outputs": [],
   "source": [
    "import torch\n",
    "import torch.nn as nn\n",
    "import torch.optim as optim\n",
    "import torchvision.transforms as transforms\n",
    "from torch.utils.data import Dataset, DataLoader\n",
    "from torchvision import models, datasets\n",
    "from sklearn.model_selection import train_test_split\n",
    "import random\n",
    "import os\n",
    "from PIL import Image\n",
    "\n",
    "device = torch.device(\"cuda\" if torch.cuda.is_available() else \"cpu\")\n",
    "\n",
    "class CustomAgeGenderDataset(Dataset):\n",
    "    def __init__(self, root_dir, image_files, transform=None):\n",
    "        self.root_dir = root_dir\n",
    "        self.transform = transform\n",
    "        self.image_files = image_files\n",
    "\n",
    "    def __len__(self):\n",
    "        return len(self.image_files)\n",
    "\n",
    "    def __getitem__(self, idx):\n",
    "        image_file = self.image_files[idx]\n",
    "        image_path = os.path.join(self.root_dir, image_file)\n",
    "        image = Image.open(image_path).convert('RGB')\n",
    "        age, gender = map(int, image_file.split('_')[:2])  # Extract age and gender from the file name\n",
    "        # Normalize gender to 0 for male and 1 for female\n",
    "        gender = 1 if gender == 1 else 0\n",
    "        \n",
    "        if self.transform:\n",
    "            image = self.transform(image)\n",
    "            \n",
    "        return image, age, gender\n",
    "\n",
    "# Create a CNN model\n",
    "class AgeGenderPredictionModel(nn.Module):\n",
    "    def __init__(self):\n",
    "        super(AgeGenderPredictionModel, self).__init__()\n",
    "        self.features = models.resnet18(pretrained=True)\n",
    "        self.fc_age = nn.Linear(1000, 1)  # Output layer for age prediction\n",
    "        self.fc_gender = nn.Linear(1000, 1)  # Output layer for gender prediction\n",
    "\n",
    "    def forward(self, x):\n",
    "        x = self.features(x)\n",
    "        age = self.fc_age(x)\n",
    "        gender = torch.sigmoid(self.fc_gender(x))  # Sigmoid activation for binary gender prediction\n",
    "        return age, gender\n",
    "\n",
    "# Define transforms\n",
    "transform = transforms.Compose([\n",
    "    transforms.Resize((224, 224)),\n",
    "    transforms.ToTensor(),\n",
    "    transforms.Normalize(mean=[0.485, 0.456, 0.406], std=[0.229, 0.224, 0.225])\n",
    "])"
   ]
  },
  {
   "cell_type": "code",
   "execution_count": 24,
   "id": "229a44f0-3503-47c9-9bca-0b525fd9b318",
   "metadata": {
    "ExecuteTime": {
     "end_time": "2024-04-10T04:14:33.491456Z",
     "start_time": "2024-04-10T04:14:01.129357Z"
    }
   },
   "outputs": [
    {
     "name": "stdout",
     "output_type": "stream",
     "text": [
      "Epoch 1, Train Loss (Age): 300.4842501831055, Train Loss (Gender): 0.6898245453834534\n",
      "Epoch 2, Train Loss (Age): 154.81126510620118, Train Loss (Gender): 0.6687715399265289\n",
      "Epoch 3, Train Loss (Age): 112.87400665283204, Train Loss (Gender): 0.7087358820438385\n",
      "Epoch 4, Train Loss (Age): 94.26985984802246, Train Loss (Gender): 0.6455407762527465\n",
      "Epoch 5, Train Loss (Age): 76.94033401489258, Train Loss (Gender): 0.6908942431211471\n",
      "Epoch 6, Train Loss (Age): 57.025408325195315, Train Loss (Gender): 0.6621396923065186\n",
      "Epoch 7, Train Loss (Age): 54.20266786575317, Train Loss (Gender): 0.6692236053943634\n",
      "Epoch 8, Train Loss (Age): 39.768920249938965, Train Loss (Gender): 0.6451170325279236\n",
      "Epoch 9, Train Loss (Age): 30.93754976272583, Train Loss (Gender): 0.6785451328754425\n",
      "Epoch 10, Train Loss (Age): 29.25818675994873, Train Loss (Gender): 0.6453408765792846\n"
     ]
    }
   ],
   "source": [
    "# load all of the image paths\n",
    "image_files = [fname for fname in os.listdir('C:\\\\Users\\\\alans\\\\Datasets\\\\utkcropped') if fname.endswith('.jpg')]\n",
    "\n",
    "# number of total images and the number of images to use\n",
    "total_images = len(image_files)  \n",
    "num_images = 2000  ################################## up to 23000, adjust as you want\n",
    "\n",
    "# select a random subset\n",
    "selected_files = random.sample(image_files, num_images)\n",
    "\n",
    "# split the selected files into train and test sets\n",
    "train_files, test_files = train_test_split(selected_files, test_size=0.2, random_state=42)\n",
    "\n",
    "# use custom datasets for train and test sets\n",
    "train_dataset = CustomAgeGenderDataset(root_dir='C:\\\\Users\\\\alans\\\\Datasets\\\\utkcropped', image_files=train_files, transform=transform)\n",
    "test_dataset = CustomAgeGenderDataset(root_dir='C:\\\\Users\\\\alans\\\\Datasets\\\\utkcropped', image_files=test_files, transform=transform)\n",
    "\n",
    "# define the dataloaders for train and test sets\n",
    "train_loader = DataLoader(train_dataset, batch_size=32, shuffle=True)\n",
    "test_loader = DataLoader(test_dataset, batch_size=32, shuffle=False)\n",
    "\n",
    "# initialize model, loss function, and optimizer\n",
    "model = AgeGenderPredictionModel().to(device)\n",
    "criterion_age = nn.MSELoss()\n",
    "criterion_gender = nn.BCELoss()\n",
    "optimizer = optim.Adam(model.parameters(), lr=0.001)\n",
    "\n",
    "# Train the model\n",
    "num_epochs = 10  ############################ Adjust this number as needed \n",
    "for epoch in range(num_epochs):\n",
    "    running_loss_age = 0.0\n",
    "    running_loss_gender = 0.0\n",
    "    model.train() \n",
    "    for images, ages, genders in train_loader:\n",
    "        images, ages, genders = images.to(device), ages.to(device), genders.to(device)  # Move to device\n",
    "        optimizer.zero_grad()\n",
    "        predicted_ages, predicted_genders = model(images)\n",
    "        loss_age = criterion_age(predicted_ages, ages.float().unsqueeze(1))\n",
    "        loss_gender = criterion_gender(predicted_genders, genders.float().unsqueeze(1))\n",
    "        loss = loss_age + loss_gender  \n",
    "        loss.backward()\n",
    "        optimizer.step()\n",
    "        running_loss_age += loss_age.item()\n",
    "        running_loss_gender += loss_gender.item()\n",
    "    print(f\"Epoch {epoch+1}, Train Loss (Age): {running_loss_age/len(train_loader)}, Train Loss (Gender): {running_loss_gender/len(train_loader)}\")"
   ]
  },
  {
   "cell_type": "code",
   "execution_count": 25,
   "id": "7f5d2bb2-4692-436b-9712-417f6cef99f3",
   "metadata": {
    "ExecuteTime": {
     "end_time": "2024-04-10T04:14:34.274045Z",
     "start_time": "2024-04-10T04:14:33.492462Z"
    }
   },
   "outputs": [
    {
     "name": "stdout",
     "output_type": "stream",
     "text": [
      "Mean Loss on Test Set (Age): 72.70202056884766\n",
      "Mean Loss on Test Set (Gender): 0.573951563835144\n",
      "Mean Absolute Error on Test Set (Age): 6.334968338012695\n",
      "Mean Absolute Error on Test Set (Gender): 0.40671067237854003\n"
     ]
    }
   ],
   "source": [
    "# Evaluate the model\n",
    "model.eval()  \n",
    "total_loss_age = 0.0\n",
    "total_loss_gender = 0.0\n",
    "total_absolute_error_age = 0.0\n",
    "total_absolute_error_gender = 0.0\n",
    "num_samples = 0\n",
    "\n",
    "with torch.no_grad():  # disable gradient calculation during evaluation\n",
    "    for images, ages, genders in test_loader:\n",
    "        images, ages, genders = images.to(device), ages.to(device), genders.to(device)  # Move to device\n",
    "        predicted_ages, predicted_genders = model(images)\n",
    "        \n",
    "        # absolute errors\n",
    "        absolute_error_age = torch.abs(predicted_ages - ages.float().unsqueeze(1))\n",
    "        absolute_error_gender = torch.abs(predicted_genders - genders.float().unsqueeze(1))\n",
    "        \n",
    "        # sum the absolute errors over the batch\n",
    "        total_absolute_error_age += torch.sum(absolute_error_age).item()\n",
    "        total_absolute_error_gender += torch.sum(absolute_error_gender).item()\n",
    "        \n",
    "        # compute loss\n",
    "        loss_age = criterion_age(predicted_ages, ages.float().unsqueeze(1))\n",
    "        loss_gender = criterion_gender(predicted_genders, genders.float().unsqueeze(1))\n",
    "        \n",
    "        # sum of losses over the batch\n",
    "        total_loss_age += loss_age.item() * len(images)\n",
    "        total_loss_gender += loss_gender.item() * len(images)\n",
    "        \n",
    "        num_samples += len(images)\n",
    "\n",
    "# compute mean loss \n",
    "mean_loss_age = total_loss_age / num_samples\n",
    "mean_loss_gender = total_loss_gender / num_samples\n",
    "\n",
    "# Compute Mean Absolute Error\n",
    "mean_absolute_error_age = total_absolute_error_age / num_samples\n",
    "mean_absolute_error_gender = total_absolute_error_gender / num_samples\n",
    "\n",
    "# Print mean loss and MAE for age and gender predictions\n",
    "print(f\"Mean Loss on Test Set (Age): {mean_loss_age}\")\n",
    "print(f\"Mean Loss on Test Set (Gender): {mean_loss_gender}\")\n",
    "print(f\"Mean Absolute Error on Test Set (Age): {mean_absolute_error_age}\")\n",
    "print(f\"Mean Absolute Error on Test Set (Gender): {mean_absolute_error_gender}\")\n",
    "\n",
    "torch.save(model.state_dict(), 'age_gender_prediction_model.pth')"
   ]
  }
 ],
 "metadata": {
  "kernelspec": {
   "display_name": "Python 3 (ipykernel)",
   "language": "python",
   "name": "python3"
  },
  "language_info": {
   "codemirror_mode": {
    "name": "ipython",
    "version": 3
   },
   "file_extension": ".py",
   "mimetype": "text/x-python",
   "name": "python",
   "nbconvert_exporter": "python",
   "pygments_lexer": "ipython3",
   "version": "3.11.5"
  }
 },
 "nbformat": 4,
 "nbformat_minor": 5
}
